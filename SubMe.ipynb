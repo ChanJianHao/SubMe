{
  "nbformat": 4,
  "nbformat_minor": 0,
  "metadata": {
    "colab": {
      "name": "SubMe.ipynb",
      "provenance": []
    },
    "kernelspec": {
      "name": "python_defaultSpec_1597148288905",
      "display_name": "Python 3.8.2 32-bit"
    }
  },
  "cells": [
    {
      "cell_type": "markdown",
      "metadata": {
        "id": "uV-cMxksZjct",
        "colab_type": "text"
      },
      "source": [
        "# SubMe\n",
        "\n",
        "Review the **Processing Settings** below, then click `Runtime > Run All` to start the program.\n",
        "\n"
      ]
    },
    {
      "cell_type": "markdown",
      "metadata": {},
      "source": [
        "# Project Setup\n",
        "\n",
        "It may take a few minutes to load the program. Please be patient."
      ]
    },
    {
      "cell_type": "code",
      "metadata": {
        "id": "P8k94nn5YGXp",
        "colab_type": "code",
        "colab": {
          "base_uri": "https://localhost:8080/",
          "height": 34
        },
        "outputId": "71e89203-8dca-4ff7-acef-d08305c28d62"
      },
      "source": [
        "a = 1\n",
        "print(a*2)\n",
        "print(\"hello\")"
      ],
      "execution_count": 1,
      "outputs": [
        {
          "output_type": "stream",
          "text": [
            "2\n"
          ],
          "name": "stdout"
        }
      ]
    },
    {
      "cell_type": "code",
      "execution_count": null,
      "metadata": {},
      "outputs": [],
      "source": [
        "#@title Project Settings\n",
        "\n",
        "import os\n",
        "\n",
        "#@markdown Repo path to clone from.\n",
        "repo_url = 'https://github.com/BingLingGroup/autosub' #@param {type:\"string\"}\n",
        "repo_name = repo_url.split('/')[-1]\n",
        "\n",
        "#@markdown Repo branch or tag to clone. Leave blank to clone `master`.\n",
        "repo_branch = '' #@param {type:\"string\"}\n",
        "\n",
        "#@markdown Root workspace.\n",
        "root_dir = '/content/subme' #@param {type:\"string\"}\n",
        "repo_dir = os.path.join(root_dir, repo_name)\n",
        "\n",
        "#@markdown Temp directory. If your root workspace is in Google Drive, then this path should be a local folder, such as `/content`.\n",
        "temp_dir = '/content/subme/work' #@param {type:\"string\"}\n",
        "\n",
        "#@markdown Models directory.\n",
        "model_dir = '/content/subme/work/checkpoint' #@param {type:\"string\"}\n",
        "\n",
        "#@markdown Masks directory.\n",
        "altered_dir = '/content/subme/work/altered' #@param {type:\"string\"}\n",
        "\n",
        "#@markdown Output directory.\n",
        "output_dir = '/content/subme/work/output' #@param {type:\"string\"}\n",
        "\n",
        "#@markdown Attempt to request Google Drive access. Will mount to `/content/drive/My Drive`. \n",
        "#@markdown Will save output to your linked Google Drive account inside `subme` folder. \n",
        "#@markdown\n",
        "#@markdown Try auto-mounting by clicking the Files button on the left, then click `Mount Drive`.\n",
        "request_drive = False #@param {type:\"boolean\"} \n",
        "\n",
        "#@markdown Install `dependencies.txt` from project.\n",
        "install_deps = True #@param {type:\"boolean\"}\n",
        "\n",
        "#@#markdown Tensorflow version (1 or 2)\n",
        "tf_version = 1 #@#param {type:\"integer\"}\n",
        "\n",
        "#@#markdown Attempt to invoke high memory (25.5 GB) in Colab.\n",
        "high_memory = False #@#param {type:\"boolean\"}\n"
      ]
    },
    {
      "cell_type": "markdown",
      "metadata": {},
      "source": [
        "# Upload Videos for Processing"
      ]
    },
    {
      "cell_type": "code",
      "execution_count": null,
      "metadata": {},
      "outputs": [],
      "source": [
        "#@#title Upload Videos for Processing\n",
        "#@markdown Click `Runtime > Run All` to upload images. If you see an error in this section, then run this cell again.\n",
        "\n",
        "from google.colab import files\n",
        "import shutil\n",
        "\n",
        "# wj faster plssss\n",
        "print(\"wj here\")\n",
        "\n"
      ]
    }
  ]
}