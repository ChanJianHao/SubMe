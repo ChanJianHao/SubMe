{
  "nbformat": 4,
  "nbformat_minor": 0,
  "metadata": {
    "colab": {
      "name": "SubMe.ipynb",
      "provenance": [],
      "private_outputs": true,
      "toc_visible": true,
      "machine_shape": "hm",
      "include_colab_link": true
    },
    "kernelspec": {
      "name": "python3",
      "display_name": "Python 3"
    },
    "accelerator": "GPU"
  },
  "cells": [
    {
      "cell_type": "markdown",
      "metadata": {
        "id": "view-in-github",
        "colab_type": "text"
      },
      "source": [
        "<a href=\"https://colab.research.google.com/github/ChanJianHao/SubMe/blob/master/SubMe.ipynb\" target=\"_parent\"><img src=\"https://colab.research.google.com/assets/colab-badge.svg\" alt=\"Open In Colab\"/></a>"
      ]
    },
    {
      "cell_type": "markdown",
      "metadata": {
        "id": "uV-cMxksZjct",
        "colab_type": "text"
      },
      "source": [
        "# SubMe\n",
        "\n",
        "Review the **Processing Settings** below, then click `Runtime > Run All` to start the program.\n",
        "\n",
        "Github URL: [repo1](https://github.com/ChanJianHao/SubMe/blob/master/SubMe.ipynb)\n",
        "\n"
      ]
    },
    {
      "cell_type": "markdown",
      "metadata": {
        "id": "i5_78TOBG8Ly",
        "colab_type": "text"
      },
      "source": [
        "# Project Setup\n",
        "\n",
        "It may take a few minutes to load the program. Please be patient."
      ]
    },
    {
      "cell_type": "code",
      "metadata": {
        "id": "gzYGE9j_G8L7",
        "colab_type": "code",
        "colab": {}
      },
      "source": [
        "#@title Project Settings\n",
        "\n",
        "import os\n",
        "\n",
        "#@markdown Repo path to clone from.\n",
        "repo_url = 'https://github.com/BingLingGroup/autosub' #@param {type:\"string\"}\n",
        "# repo_name = repo_url.split('/')[-1]\n",
        "\n",
        "#@markdown Repo branch or tag to clone. Leave blank to clone `master`.\n",
        "repo_branch = 'alpha' #@param {type:\"string\"}\n",
        "\n",
        "#@markdown Root workspace.\n",
        "root_dir = '/content/subme' #@param {type:\"string\"}\n",
        "repo_dir = os.path.join(root_dir, repo_name)\n",
        "\n",
        "#@markdown Temp directory. If your root workspace is in Google Drive, then this path should be a local folder, such as `/content`.\n",
        "temp_dir = '/content/subme/work' #@param {type:\"string\"}\n",
        "\n",
        "#@markdown Output directory.\n",
        "output_dir = '/content/subme/work/output' #@param {type:\"string\"}\n",
        "\n",
        "#@markdown Attempt to request Google Drive access. Will mount to `/content/drive/My Drive`. \n",
        "#@markdown Will save output to your linked Google Drive account inside `subme` folder. \n",
        "#@markdown\n",
        "#@markdown Try auto-mounting by clicking the Files button on the left, then click `Mount Drive`.\n",
        "request_drive = True #@param {type:\"boolean\"} \n",
        "\n",
        "#@markdown Install `dependencies.txt` from project.\n",
        "install_deps = True #@param {type:\"boolean\"}\n",
        "\n",
        "#@#markdown Attempt to invoke high memory (25.5 GB) in Colab.\n",
        "high_memory = False #@#param {type:\"boolean\"} \n"
      ],
      "execution_count": null,
      "outputs": []
    },
    {
      "cell_type": "code",
      "metadata": {
        "id": "vNCBszS7G8L-",
        "colab_type": "code",
        "colab": {}
      },
      "source": [
        "#@title System Setup\n",
        "#@markdown Attempt to invoke high memory if enabled in settings. Trigger Tensorflow version.\n",
        "\n",
        "!pip install gputil\n",
        "\n",
        "# Import packages\n",
        "import os,sys,humanize,psutil,GPUtil\n",
        "\n",
        "def mem_report():\n",
        "  print(\"CPU RAM Free: \" + humanize.naturalsize( psutil.virtual_memory().available ))\n",
        "  \n",
        "  GPUs = GPUtil.getGPUs()\n",
        "  for i, gpu in enumerate(GPUs):\n",
        "    print('GPU {:d} ... Mem Free: {:.0f}MB / {:.0f}MB | Utilization {:3.0f}%'.format(i, gpu.memoryFree, gpu.memoryTotal, gpu.memoryUtil*100))\n",
        "    \n",
        "mem_report()\n",
        "\n",
        "if high_memory and psutil.virtual_memory().available < 13958643712:\n",
        "  print('Attempting to invoke high memory.')\n",
        "  print('This notebook will crash intentionally and Colab should display a prompt to offer you high-RAM.')\n",
        "  print('IF THIS PROMPT DOES NOT SHOW, DISABLE high_memory IN THE SETTINGS!')\n",
        "  d=[]\n",
        "  while(1):\n",
        "    d.append('1')"
      ],
      "execution_count": null,
      "outputs": []
    },
    {
      "cell_type": "code",
      "metadata": {
        "id": "68tEWSj6G8MB",
        "colab_type": "code",
        "colab": {}
      },
      "source": [
        "#@title Project Setup\n",
        "#@markdown Setup directories. Clone project from git.\n",
        "\n",
        "from google.colab import drive\n",
        "\n",
        "if request_drive:\n",
        "  drive.mount('/content/drive')\n",
        "output_dir = ('/content/drive/My Drive/subme')\n",
        "\n",
        "os.makedirs(root_dir, exist_ok=True)\n",
        "os.makedirs(temp_dir, exist_ok=True)\n",
        "os.makedirs(output_dir, exist_ok=True)\n",
        "\n",
        "if not os.path.isdir(repo_dir):\n",
        "  repo_cmd = f'--branch {repo_branch}' if repo_branch else ''\n",
        "  !git clone {repo_url} {repo_cmd} --depth 1 \"{repo_dir}\""
      ],
      "execution_count": null,
      "outputs": []
    },
    {
      "cell_type": "code",
      "metadata": {
        "id": "LzBNny4yG8MH",
        "colab_type": "code",
        "colab": {}
      },
      "source": [
        "#@title Dependency Setup\n",
        "#@markdown Install dependencies from `requirements.txt`.\n",
        "\n",
        "if install_deps:\n",
        "  %cd \"{root_dir}/{repo_name}\"\n",
        "  %mkdir \"src\"\n",
        "  %cd \"src\"\n",
        "\n",
        "  # Strip tensorflow from requirements list because Colab provides this custom-compiled.\n",
        "  # !pip install -r requirements.txt\n",
        "  # !apt install ffmpeg python python-pip git -y\n",
        "  # !pip install git+https://github.com/BingLingGroup/autosub.git@origin\n",
        "  !apt install ffmpeg python3 curl git -y\n",
        "  !curl https://bootstrap.pypa.io/get-pip.py -o get-pip.py\n",
        "  !python3 get-pip.py\n",
        "  !pip install git+{repo_url}@{repo_branch} ffmpeg-normalize langcodes"
      ],
      "execution_count": null,
      "outputs": []
    },
    {
      "cell_type": "markdown",
      "metadata": {
        "id": "1MQIROIBG8MM",
        "colab_type": "text"
      },
      "source": [
        "# Upload Videos for Processing"
      ]
    },
    {
      "cell_type": "code",
      "metadata": {
        "id": "JHwGXjEzG8MP",
        "colab_type": "code",
        "colab": {}
      },
      "source": [
        "#@#title Upload Videos for Processing\n",
        "#@markdown Click `Runtime > Run All` to upload images. If you see an error in this section, then run this cell again.\n",
        "\n",
        "from google.colab import files\n",
        "import shutil\n",
        "\n",
        "if request_drive:\n",
        "  uploaded = []\n",
        "  file_no = int(input(\"No. of files to sub: \"))\n",
        "  for i in range(file_no):\n",
        "    file_name = input(\"Please enter file name with extension: \")\n",
        "    file_name = \"/content/drive/My\\ Drive/subme/\" + file_name\n",
        "    uploaded.append(file_name)\n",
        "else:\n",
        "  uploaded = files.upload()\n",
        "  uploaded = list(uploaded.keys())\n",
        "\n",
        "print(uploaded)\n"
      ],
      "execution_count": null,
      "outputs": []
    },
    {
      "cell_type": "code",
      "metadata": {
        "id": "DpJXY1bnOtJg",
        "colab_type": "code",
        "colab": {}
      },
      "source": [
        "print(uploaded)"
      ],
      "execution_count": null,
      "outputs": []
    },
    {
      "cell_type": "markdown",
      "metadata": {
        "id": "kMlAiyxcG8MV",
        "colab_type": "text"
      },
      "source": [
        "# Processing"
      ]
    },
    {
      "cell_type": "code",
      "metadata": {
        "id": "0kRgJz7qG8MW",
        "colab_type": "code",
        "colab": {}
      },
      "source": [
        "#@markdown Choose media source language.\n",
        "\n",
        "src_language = 'en' #@param {type:\"string\"}\n",
        "dst_language = 'en' #@param {type:\"string\"}\n",
        "\n",
        "for file in uploaded:\n",
        "  print('User uploaded file \"{name}\" '.format(\n",
        "      name=file))\n",
        "  !autosub -i {file} -S {src_language} -D {dst_language}\n",
        "\n",
        "# !autosub -i {uploaded} -S {src_language} -D {dst_language}\n",
        "\n"
      ],
      "execution_count": null,
      "outputs": []
    }
  ]
}