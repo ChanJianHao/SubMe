{
  "nbformat": 4,
  "nbformat_minor": 0,
  "metadata": {
    "colab": {
      "name": "SubMe.ipynb",
      "provenance": []
    },
    "kernelspec": {
      "name": "python_defaultSpec_1597149481761",
      "display_name": "Python 3.7.2 32-bit"
    }
  },
  "cells": [
    {
      "cell_type": "markdown",
      "metadata": {
        "id": "uV-cMxksZjct",
        "colab_type": "text"
      },
      "source": [
        "# SubMe\n",
        "\n",
        "Review the **Processing Settings** below, then click `Runtime > Run All` to start the program.\n",
        "\n"
      ]
    },
    {
      "cell_type": "markdown",
      "metadata": {},
      "source": [
        "# Project Setup\n",
        "\n",
        "It may take a few minutes to load the program. Please be patient."
      ]
    },
    {
      "cell_type": "code",
      "metadata": {
        "id": "P8k94nn5YGXp",
        "colab_type": "code",
        "colab": {
          "base_uri": "https://localhost:8080/",
          "height": 34
        },
        "outputId": "71e89203-8dca-4ff7-acef-d08305c28d62"
      },
      "source": [
        "a = 1\n",
        "print(a*2)\n",
        "print(\"hello\")\n",
        "\n",
        "!echo \"test\""
      ],
      "execution_count": null,
      "outputs": []
    },
    {
      "cell_type": "code",
      "execution_count": null,
      "metadata": {},
      "outputs": [],
      "source": [
        "#@title Project Settings\n",
        "\n",
        "import os\n",
        "\n",
        "#@markdown Repo path to clone from.\n",
        "repo_url = 'https://github.com/BingLingGroup/autosub' #@param {type:\"string\"}\n",
        "repo_name = repo_url.split('/')[-1]\n",
        "\n",
        "#@markdown Repo branch or tag to clone. Leave blank to clone `master`.\n",
        "repo_branch = '' #@param {type:\"string\"}\n",
        "\n",
        "#@markdown Root workspace.\n",
        "root_dir = '/content/subme' #@param {type:\"string\"}\n",
        "repo_dir = os.path.join(root_dir, repo_name)\n",
        "\n",
        "#@markdown Temp directory. If your root workspace is in Google Drive, then this path should be a local folder, such as `/content`.\n",
        "temp_dir = '/content/subme/work' #@param {type:\"string\"}\n",
        "\n",
        "#@markdown Output directory.\n",
        "output_dir = '/content/subme/work/output' #@param {type:\"string\"}\n",
        "\n",
        "#@markdown Attempt to request Google Drive access. Will mount to `/content/drive/My Drive`. \n",
        "#@markdown Will save output to your linked Google Drive account inside `subme` folder. \n",
        "#@markdown\n",
        "#@markdown Try auto-mounting by clicking the Files button on the left, then click `Mount Drive`.\n",
        "request_drive = False #@param {type:\"boolean\"} \n",
        "\n",
        "#@markdown Install `dependencies.txt` from project.\n",
        "install_deps = True #@param {type:\"boolean\"}\n",
        "\n",
        "#@#markdown Attempt to invoke high memory (25.5 GB) in Colab.\n",
        "high_memory = False #@#param {type:\"boolean\"} \n"
      ]
    },
    {
      "cell_type": "code",
      "execution_count": null,
      "metadata": {},
      "outputs": [],
      "source": [
        "#@title System Setup\n",
        "#@markdown Attempt to invoke high memory if enabled in settings. Trigger Tensorflow version.\n",
        "\n",
        "!pip install gputil\n",
        "\n",
        "# Import packages\n",
        "import os,sys,humanize,psutil,GPUtil\n",
        "\n",
        "def mem_report():\n",
        "  print(\"CPU RAM Free: \" + humanize.naturalsize( psutil.virtual_memory().available ))\n",
        "  \n",
        "  GPUs = GPUtil.getGPUs()\n",
        "  for i, gpu in enumerate(GPUs):\n",
        "    print('GPU {:d} ... Mem Free: {:.0f}MB / {:.0f}MB | Utilization {:3.0f}%'.format(i, gpu.memoryFree, gpu.memoryTotal, gpu.memoryUtil*100))\n",
        "    \n",
        "mem_report()\n",
        "\n",
        "if high_memory and psutil.virtual_memory().available < 13958643712:\n",
        "  print('Attempting to invoke high memory.')\n",
        "  print('This notebook will crash intentionally and Colab should display a prompt to offer you high-RAM.')\n",
        "  print('IF THIS PROMPT DOES NOT SHOW, DISABLE high_memory IN THE SETTINGS!')\n",
        "  d=[]\n",
        "  while(1):\n",
        "    d.append('1')"
      ]
    },
    {
      "cell_type": "code",
      "execution_count": null,
      "metadata": {},
      "outputs": [],
      "source": [
        "#@title Project Setup\n",
        "#@markdown Setup directories. Clone project from git.\n",
        "\n",
        "from google.colab import drive\n",
        "\n",
        "if request_drive:\n",
        "  drive.mount('/content/drive')\n",
        "output_dir = ('/content/drive/My Drive/subme')\n",
        "\n",
        "os.makedirs(root_dir, exist_ok=True)\n",
        "os.makedirs(temp_dir, exist_ok=True)\n",
        "os.makedirs(output_dir, exist_ok=True)\n",
        "\n",
        "if not os.path.isdir(repo_dir):\n",
        "  repo_cmd = f'--branch {repo_branch}' if repo_branch else ''\n",
        "  !git clone {repo_url} {repo_cmd} --depth 1 \"{repo_dir}\""
      ]
    },
    {
      "cell_type": "code",
      "execution_count": null,
      "metadata": {},
      "outputs": [],
      "source": [
        "#@title Dependency Setup\n",
        "#@markdown Install dependencies from `requirements.txt`.\n",
        "\n",
        "if install_deps:\n",
        "  %cd \"{root_dir}/{repo_name}/src\"\n",
        "\n",
        "  # Strip tensorflow from requirements list because Colab provides this custom-compiled.\n",
        "  !pip install -r requirements.txt"
      ]
    },
    {
      "cell_type": "markdown",
      "metadata": {},
      "source": [
        "# Upload Videos for Processing"
      ]
    },
    {
      "cell_type": "code",
      "execution_count": null,
      "metadata": {},
      "outputs": [],
      "source": [
        "#@#title Upload Videos for Processing\n",
        "#@markdown Click `Runtime > Run All` to upload images. If you see an error in this section, then run this cell again.\n",
        "\n",
        "from google.colab import files\n",
        "import shutil\n",
        "\n",
        "# wj faster plssss\n",
        "print(\"wj here\")\n",
        "\n"
      ]
    },
    {
      "cell_type": "markdown",
      "metadata": {},
      "source": [
        "# Processing"
      ]
    },
    {
      "cell_type": "code",
      "execution_count": null,
      "metadata": {},
      "outputs": [],
      "source": [
        "#@markdown Choose media source language.\n",
        "\n",
        "src_language = 'ja' #@param {type:\"string\"}\n",
        "dst_language = 'en' #@param {type:\"string\"}\n",
        "\n",
        "\n",
        " .\\autosub.exe -i FILEPATH -S ja -D en\n"
      ]
    }
  ]
}