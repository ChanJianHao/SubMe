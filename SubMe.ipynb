{
  "nbformat": 4,
  "nbformat_minor": 0,
  "metadata": {
    "colab": {
      "name": "SubMe.ipynb",
      "provenance": [],
      "private_outputs": true,
      "toc_visible": true,
      "machine_shape": "hm",
      "include_colab_link": true
    },
    "kernelspec": {
      "name": "python3",
      "display_name": "Python 3"
    },
    "accelerator": "GPU"
  },
  "cells": [
    {
      "cell_type": "markdown",
      "metadata": {
        "id": "view-in-github",
        "colab_type": "text"
      },
      "source": [
        "<a href=\"https://colab.research.google.com/github/ChanJianHao/SubMe/blob/master/SubMe.ipynb\" target=\"_parent\"><img src=\"https://colab.research.google.com/assets/colab-badge.svg\" alt=\"Open In Colab\"/></a>"
      ]
    },
    {
      "cell_type": "markdown",
      "metadata": {
        "id": "uV-cMxksZjct",
        "colab_type": "text"
      },
      "source": [
        "# SubMe\n",
        "\n",
        "Review the **Processing Settings** below, then click `Runtime > Run All` to start the program.\n",
        "\n",
        "Github URL: [repo1](https://github.com/ChanJianHao/SubMe/blob/master/SubMe.ipynb)\n",
        "\n"
      ]
    },
    {
      "cell_type": "markdown",
      "metadata": {
        "id": "i5_78TOBG8Ly",
        "colab_type": "text"
      },
      "source": [
        "# Project Setup\n",
        "\n",
        "It may take a few minutes to load the program. Please be patient."
      ]
    },
    {
      "cell_type": "code",
      "metadata": {
        "id": "gzYGE9j_G8L7",
        "colab_type": "code",
        "colab": {}
      },
      "source": [
        "#@title Project Settings\n",
        "\n",
        "import os\n",
        "\n",
        "#@markdown Repo path to clone from.\n",
        "repo_url = 'https://github.com/BingLingGroup/autosub' #@param {type:\"string\"}\n",
        "repo_name = repo_url.split('/')[-1]\n",
        "\n",
        "#@markdown Repo branch or tag to clone. Leave blank to clone `master`.\n",
        "repo_branch = 'alpha' #@param {type:\"string\"}\n",
        "\n",
        "#@markdown Root workspace.\n",
        "root_dir = '/content/subme' #@param {type:\"string\"}\n",
        "repo_dir = os.path.join(root_dir, repo_name)\n",
        "\n",
        "#@markdown Attempt to request Google Drive access. Will mount to `/content/drive/My Drive`. \n",
        "#@markdown Will save output to your linked Google Drive account inside `subme` folder. \n",
        "#@markdown\n",
        "#@markdown Try auto-mounting by clicking the Files button on the left, then click `Mount Drive`.\n",
        "request_drive = False #@param {type:\"boolean\"} \n",
        "\n",
        "#@markdown Attempt to invoke high memory (25.5 GB) in Colab.\n",
        "high_memory = False #@param {type:\"boolean\"}\n",
        "\n"
      ],
      "execution_count": 3,
      "outputs": []
    },
    {
      "cell_type": "code",
      "metadata": {
        "id": "vNCBszS7G8L-",
        "colab_type": "code",
        "colab": {},
        "tags": []
      },
      "source": [
        "#@title System Setup\n",
        "#@markdown Attempt to invoke high memory if enabled in settings. Trigger Tensorflow version.\n",
        "\n",
        "!pip install gputil\n",
        "\n",
        "# Import packages\n",
        "import os,sys,humanize,psutil,GPUtil\n",
        "\n",
        "def mem_report():\n",
        "  print(\"CPU RAM Free: \" + humanize.naturalsize( psutil.virtual_memory().available ))\n",
        "  \n",
        "  GPUs = GPUtil.getGPUs()\n",
        "  for i, gpu in enumerate(GPUs):\n",
        "    print('GPU {:d} ... Mem Free: {:.0f}MB / {:.0f}MB | Utilization {:3.0f}%'.format(i, gpu.memoryFree, gpu.memoryTotal, gpu.memoryUtil*100))\n",
        "    \n",
        "mem_report()\n",
        "\n",
        "if high_memory and psutil.virtual_memory().available < 13958643712:\n",
        "  print('Attempting to invoke high memory.')\n",
        "  print('This notebook will crash intentionally and Colab should display a prompt to offer you high-RAM.')\n",
        "  print('IF THIS PROMPT DOES NOT SHOW, DISABLE high_memory IN THE SETTINGS!')\n",
        "  d=[]\n",
        "  while(1):\n",
        "    d.append('1')\n",
        "\n"
      ],
      "execution_count": 6,
      "outputs": [
        {
          "output_type": "stream",
          "name": "stderr",
          "text": "ERROR: Exception:\nTraceback (most recent call last):\n  File \"c:\\program files (x86)\\python38-32\\lib\\site-packages\\pip\\_internal\\cli\\base_command.py\", line 186, in _main\n    status = self.run(options, args)\n  File \"c:\\program files (x86)\\python38-32\\lib\\site-packages\\pip\\_internal\\commands\\install.py\", line 253, in run\n    options.use_user_site = decide_user_install(\n  File \"c:\\program files (x86)\\python38-32\\lib\\site-packages\\pip\\_internal\\commands\\install.py\", line 604, in decide_user_install\n    if site_packages_writable(root=root_path, isolated=isolated_mode):\n  File \"c:\\program files (x86)\\python38-32\\lib\\site-packages\\pip\\_internal\\commands\\install.py\", line 548, in site_packages_writable\n    return all(\n  File \"c:\\program files (x86)\\python38-32\\lib\\site-packages\\pip\\_internal\\commands\\install.py\", line 549, in <genexpr>\n    test_writable_dir(d) for d in set(get_lib_location_guesses(**kwargs))\n  File \"c:\\program files (x86)\\python38-32\\lib\\site-packages\\pip\\_internal\\utils\\filesystem.py\", line 140, in test_writable_dir\n    return _test_writable_dir_win(path)\n  File \"c:\\program files (x86)\\python38-32\\lib\\site-packages\\pip\\_internal\\utils\\filesystem.py\", line 153, in _test_writable_dir_win\n    fd = os.open(file, os.O_RDWR | os.O_CREAT | os.O_EXCL)\nPermissionError: [Errno 13] Permission denied: 'c:\\\\program files (x86)\\\\python38-32\\\\Lib\\\\site-packages\\\\accesstest_deleteme_fishfingers_custard_848ut0'\nWARNING: You are using pip version 20.0.2; however, version 20.2.2 is available.\nYou should consider upgrading via the 'c:\\program files (x86)\\python38-32\\python.exe -m pip install --upgrade pip' command.\n"
        },
        {
          "output_type": "error",
          "ename": "ModuleNotFoundError",
          "evalue": "No module named 'humanize'",
          "traceback": [
            "\u001b[1;31m---------------------------------------------------------------------------\u001b[0m",
            "\u001b[1;31mModuleNotFoundError\u001b[0m                       Traceback (most recent call last)",
            "\u001b[1;32m<ipython-input-6-e09d530cacf9>\u001b[0m in \u001b[0;36m<module>\u001b[1;34m\u001b[0m\n\u001b[0;32m      5\u001b[0m \u001b[1;33m\u001b[0m\u001b[0m\n\u001b[0;32m      6\u001b[0m \u001b[1;31m# Import packages\u001b[0m\u001b[1;33m\u001b[0m\u001b[1;33m\u001b[0m\u001b[1;33m\u001b[0m\u001b[0m\n\u001b[1;32m----> 7\u001b[1;33m \u001b[1;32mimport\u001b[0m \u001b[0mos\u001b[0m\u001b[1;33m,\u001b[0m\u001b[0msys\u001b[0m\u001b[1;33m,\u001b[0m\u001b[0mhumanize\u001b[0m\u001b[1;33m,\u001b[0m\u001b[0mpsutil\u001b[0m\u001b[1;33m,\u001b[0m\u001b[0mGPUtil\u001b[0m\u001b[1;33m\u001b[0m\u001b[1;33m\u001b[0m\u001b[0m\n\u001b[0m\u001b[0;32m      8\u001b[0m \u001b[1;33m\u001b[0m\u001b[0m\n\u001b[0;32m      9\u001b[0m \u001b[1;32mdef\u001b[0m \u001b[0mmem_report\u001b[0m\u001b[1;33m(\u001b[0m\u001b[1;33m)\u001b[0m\u001b[1;33m:\u001b[0m\u001b[1;33m\u001b[0m\u001b[1;33m\u001b[0m\u001b[0m\n",
            "\u001b[1;31mModuleNotFoundError\u001b[0m: No module named 'humanize'"
          ]
        }
      ]
    },
    {
      "cell_type": "code",
      "metadata": {
        "id": "68tEWSj6G8MB",
        "colab_type": "code",
        "colab": {}
      },
      "source": [
        "#@title Project Setup\n",
        "#@markdown Setup directories. Clone project from git.\n",
        "\n",
        "from google.colab import drive\n",
        "\n",
        "if request_drive:\n",
        "  drive.mount('/content/drive')\n",
        "output_dir = ('/content/drive/My Drive/subme')\n",
        "\n",
        "os.makedirs(root_dir, exist_ok=True)\n",
        "\n",
        "if not os.path.isdir(repo_dir):\n",
        "  repo_cmd = f'--branch {repo_branch}' if repo_branch else ''\n",
        "  !git clone {repo_url} {repo_cmd} --depth 1 \"{repo_dir}\""
      ],
      "execution_count": null,
      "outputs": []
    },
    {
      "cell_type": "code",
      "metadata": {
        "id": "LzBNny4yG8MH",
        "colab_type": "code",
        "colab": {}
      },
      "source": [
        "#@title Dependency Setup\n",
        "#@markdown Install dependencies from `requirements.txt`.\n",
        "\n",
        "\n",
        "%cd \"{root_dir}/{repo_name}\"\n",
        "%mkdir \"src\"\n",
        "%cd \"src\"\n",
        "\n",
        "!apt install ffmpeg python3 curl git -y\n",
        "!curl https://bootstrap.pypa.io/get-pip.py -o get-pip.py\n",
        "!python3 get-pip.py\n",
        "!pip install git+{repo_url}@{repo_branch} ffmpeg-normalize langcodes"
      ],
      "execution_count": null,
      "outputs": []
    },
    {
      "cell_type": "markdown",
      "metadata": {
        "id": "1MQIROIBG8MM",
        "colab_type": "text"
      },
      "source": [
        "# Upload Videos for Processing"
      ]
    },
    {
      "cell_type": "code",
      "metadata": {
        "id": "JHwGXjEzG8MP",
        "colab_type": "code",
        "colab": {}
      },
      "source": [
        "#@#title Upload Videos for Processing\n",
        "#@markdown Click `Runtime > Run All` to upload images. If you see an error in this section, then run this cell again.\n",
        "\n",
        "from google.colab import files\n",
        "import shutil\n",
        "\n",
        "if request_drive:\n",
        "  uploaded = []\n",
        "  file_no = int(input(\"No. of files to sub: \"))\n",
        "  for i in range(file_no):\n",
        "    file_name = input(\"Please enter file name with extension: \")\n",
        "    file_name = \"/content/drive/My\\ Drive/subme/\" + file_name\n",
        "    uploaded.append(file_name)\n",
        "else:\n",
        "  uploaded = files.upload()\n",
        "  uploaded = list(uploaded.keys())\n"
      ],
      "execution_count": null,
      "outputs": []
    },
    {
      "cell_type": "markdown",
      "metadata": {
        "id": "kMlAiyxcG8MV",
        "colab_type": "text"
      },
      "source": [
        "# Processing"
      ]
    },
    {
      "cell_type": "code",
      "metadata": {
        "id": "0kRgJz7qG8MW",
        "colab_type": "code",
        "colab": {}
      },
      "source": [
        "#@markdown Choose media source language.\n",
        "\n",
        "src_language = 'en' #@param {type:\"string\"}\n",
        "dst_language = 'en' #@param {type:\"string\"}\n",
        "\n",
        "for file in uploaded:\n",
        "  print('User uploaded file \"{name}\" '.format(\n",
        "      name=file))\n",
        "  !autosub -i {file} -S {src_language} -D {dst_language}\n",
        "\n"
      ],
      "execution_count": null,
      "outputs": []
    }
  ]
}